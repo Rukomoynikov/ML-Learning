{
 "cells": [
  {
   "cell_type": "markdown",
   "source": [
    "# Linear regression"
   ],
   "metadata": {
    "collapsed": false
   }
  },
  {
   "cell_type": "code",
   "execution_count": 5,
   "outputs": [
    {
     "data": {
      "text/plain": "    year  month  interest_rate  unemployment_rate  index_price\n0   2017     12           2.75                5.3         1464\n1   2017     11           2.50                5.3         1394\n2   2017     10           2.50                5.3         1357\n3   2017      9           2.50                5.3         1293\n4   2017      8           2.50                5.4         1256\n5   2017      7           2.50                5.6         1254\n6   2017      6           2.50                5.5         1234\n7   2017      5           2.25                5.5         1195\n8   2017      4           2.25                5.5         1159\n9   2017      3           2.25                5.6         1167\n10  2017      2           2.00                5.7         1130\n11  2017      1           2.00                5.9         1075\n12  2016     12           2.00                6.0         1047\n13  2016     11           1.75                5.9          965\n14  2016     10           1.75                5.8          943\n15  2016      9           1.75                6.1          958\n16  2016      8           1.75                6.2          971\n17  2016      7           1.75                6.1          949\n18  2016      6           1.75                6.1          884\n19  2016      5           1.75                6.1          866\n20  2016      4           1.75                5.9          876\n21  2016      3           1.75                6.2          822\n22  2016      2           1.75                6.2          704\n23  2016      1           1.75                6.1          719",
      "text/html": "<div>\n<style scoped>\n    .dataframe tbody tr th:only-of-type {\n        vertical-align: middle;\n    }\n\n    .dataframe tbody tr th {\n        vertical-align: top;\n    }\n\n    .dataframe thead th {\n        text-align: right;\n    }\n</style>\n<table border=\"1\" class=\"dataframe\">\n  <thead>\n    <tr style=\"text-align: right;\">\n      <th></th>\n      <th>year</th>\n      <th>month</th>\n      <th>interest_rate</th>\n      <th>unemployment_rate</th>\n      <th>index_price</th>\n    </tr>\n  </thead>\n  <tbody>\n    <tr>\n      <th>0</th>\n      <td>2017</td>\n      <td>12</td>\n      <td>2.75</td>\n      <td>5.3</td>\n      <td>1464</td>\n    </tr>\n    <tr>\n      <th>1</th>\n      <td>2017</td>\n      <td>11</td>\n      <td>2.50</td>\n      <td>5.3</td>\n      <td>1394</td>\n    </tr>\n    <tr>\n      <th>2</th>\n      <td>2017</td>\n      <td>10</td>\n      <td>2.50</td>\n      <td>5.3</td>\n      <td>1357</td>\n    </tr>\n    <tr>\n      <th>3</th>\n      <td>2017</td>\n      <td>9</td>\n      <td>2.50</td>\n      <td>5.3</td>\n      <td>1293</td>\n    </tr>\n    <tr>\n      <th>4</th>\n      <td>2017</td>\n      <td>8</td>\n      <td>2.50</td>\n      <td>5.4</td>\n      <td>1256</td>\n    </tr>\n    <tr>\n      <th>5</th>\n      <td>2017</td>\n      <td>7</td>\n      <td>2.50</td>\n      <td>5.6</td>\n      <td>1254</td>\n    </tr>\n    <tr>\n      <th>6</th>\n      <td>2017</td>\n      <td>6</td>\n      <td>2.50</td>\n      <td>5.5</td>\n      <td>1234</td>\n    </tr>\n    <tr>\n      <th>7</th>\n      <td>2017</td>\n      <td>5</td>\n      <td>2.25</td>\n      <td>5.5</td>\n      <td>1195</td>\n    </tr>\n    <tr>\n      <th>8</th>\n      <td>2017</td>\n      <td>4</td>\n      <td>2.25</td>\n      <td>5.5</td>\n      <td>1159</td>\n    </tr>\n    <tr>\n      <th>9</th>\n      <td>2017</td>\n      <td>3</td>\n      <td>2.25</td>\n      <td>5.6</td>\n      <td>1167</td>\n    </tr>\n    <tr>\n      <th>10</th>\n      <td>2017</td>\n      <td>2</td>\n      <td>2.00</td>\n      <td>5.7</td>\n      <td>1130</td>\n    </tr>\n    <tr>\n      <th>11</th>\n      <td>2017</td>\n      <td>1</td>\n      <td>2.00</td>\n      <td>5.9</td>\n      <td>1075</td>\n    </tr>\n    <tr>\n      <th>12</th>\n      <td>2016</td>\n      <td>12</td>\n      <td>2.00</td>\n      <td>6.0</td>\n      <td>1047</td>\n    </tr>\n    <tr>\n      <th>13</th>\n      <td>2016</td>\n      <td>11</td>\n      <td>1.75</td>\n      <td>5.9</td>\n      <td>965</td>\n    </tr>\n    <tr>\n      <th>14</th>\n      <td>2016</td>\n      <td>10</td>\n      <td>1.75</td>\n      <td>5.8</td>\n      <td>943</td>\n    </tr>\n    <tr>\n      <th>15</th>\n      <td>2016</td>\n      <td>9</td>\n      <td>1.75</td>\n      <td>6.1</td>\n      <td>958</td>\n    </tr>\n    <tr>\n      <th>16</th>\n      <td>2016</td>\n      <td>8</td>\n      <td>1.75</td>\n      <td>6.2</td>\n      <td>971</td>\n    </tr>\n    <tr>\n      <th>17</th>\n      <td>2016</td>\n      <td>7</td>\n      <td>1.75</td>\n      <td>6.1</td>\n      <td>949</td>\n    </tr>\n    <tr>\n      <th>18</th>\n      <td>2016</td>\n      <td>6</td>\n      <td>1.75</td>\n      <td>6.1</td>\n      <td>884</td>\n    </tr>\n    <tr>\n      <th>19</th>\n      <td>2016</td>\n      <td>5</td>\n      <td>1.75</td>\n      <td>6.1</td>\n      <td>866</td>\n    </tr>\n    <tr>\n      <th>20</th>\n      <td>2016</td>\n      <td>4</td>\n      <td>1.75</td>\n      <td>5.9</td>\n      <td>876</td>\n    </tr>\n    <tr>\n      <th>21</th>\n      <td>2016</td>\n      <td>3</td>\n      <td>1.75</td>\n      <td>6.2</td>\n      <td>822</td>\n    </tr>\n    <tr>\n      <th>22</th>\n      <td>2016</td>\n      <td>2</td>\n      <td>1.75</td>\n      <td>6.2</td>\n      <td>704</td>\n    </tr>\n    <tr>\n      <th>23</th>\n      <td>2016</td>\n      <td>1</td>\n      <td>1.75</td>\n      <td>6.1</td>\n      <td>719</td>\n    </tr>\n  </tbody>\n</table>\n</div>"
     },
     "execution_count": 5,
     "metadata": {},
     "output_type": "execute_result"
    }
   ],
   "source": [
    "import pandas as pd\n",
    "\n",
    "# Data\n",
    "data = {\n",
    "    'year': [2017,2017,2017,2017,2017,2017,2017,2017,2017,2017,2017,2017,2016,2016,2016,2016,2016,2016,2016,2016,2016,2016,2016,2016],\n",
    "    'month': [12,11,10,9,8,7,6,5,4,3,2,1,12,11,10,9,8,7,6,5,4,3,2,1],\n",
    "    'interest_rate': [2.75,2.5,2.5,2.5,2.5,2.5,2.5,2.25,2.25,2.25,2,2,2,1.75,1.75,1.75,1.75,1.75,1.75,1.75,1.75,1.75,1.75,1.75],\n",
    "    'unemployment_rate': [5.3,5.3,5.3,5.3,5.4,5.6,5.5,5.5,5.5,5.6,5.7,5.9,6,5.9,5.8,6.1,6.2,6.1,6.1,6.1,5.9,6.2,6.2,6.1],\n",
    "    'index_price': [1464,1394,1357,1293,1256,1254,1234,1195,1159,1167,1130,1075,1047,965,943,958,971,949,884,866,876,822,704,719]\n",
    "}\n",
    "\n",
    "df = pd.DataFrame(data)\n",
    "df"
   ],
   "metadata": {
    "collapsed": false
   }
  },
  {
   "cell_type": "markdown",
   "source": [
    "## StatsModel"
   ],
   "metadata": {
    "collapsed": false
   }
  },
  {
   "cell_type": "code",
   "execution_count": 11,
   "outputs": [
    {
     "name": "stdout",
     "output_type": "stream",
     "text": [
      "                            OLS Regression Results                            \n",
      "==============================================================================\n",
      "Dep. Variable:            index_price   R-squared:                       0.898\n",
      "Model:                            OLS   Adj. R-squared:                  0.888\n",
      "Method:                 Least Squares   F-statistic:                     92.07\n",
      "Date:                Sun, 08 Jan 2023   Prob (F-statistic):           4.04e-11\n",
      "Time:                        19:24:08   Log-Likelihood:                -134.61\n",
      "No. Observations:                  24   AIC:                             275.2\n",
      "Df Residuals:                      21   BIC:                             278.8\n",
      "Df Model:                           2                                         \n",
      "Covariance Type:            nonrobust                                         \n",
      "=====================================================================================\n",
      "                        coef    std err          t      P>|t|      [0.025      0.975]\n",
      "-------------------------------------------------------------------------------------\n",
      "const              1798.4040    899.248      2.000      0.059     -71.685    3668.493\n",
      "interest_rate       345.5401    111.367      3.103      0.005     113.940     577.140\n",
      "unemployment_rate  -250.1466    117.950     -2.121      0.046    -495.437      -4.856\n",
      "==============================================================================\n",
      "Omnibus:                        2.691   Durbin-Watson:                   0.530\n",
      "Prob(Omnibus):                  0.260   Jarque-Bera (JB):                1.551\n",
      "Skew:                          -0.612   Prob(JB):                        0.461\n",
      "Kurtosis:                       3.226   Cond. No.                         394.\n",
      "==============================================================================\n",
      "\n",
      "Notes:\n",
      "[1] Standard Errors assume that the covariance matrix of the errors is correctly specified.\n"
     ]
    },
    {
     "name": "stderr",
     "output_type": "stream",
     "text": [
      "/Users/maksimrukomoynikov/opt/anaconda3/lib/python3.9/site-packages/statsmodels/tsa/tsatools.py:142: FutureWarning: In a future version of pandas all arguments of concat except for the argument 'objs' will be keyword-only\n",
      "  x = pd.concat(x[::order], 1)\n"
     ]
    }
   ],
   "source": [
    "import statsmodels.api as sm\n",
    "\n",
    "x = df[['interest_rate', 'unemployment_rate']]\n",
    "y = df['index_price']\n",
    "\n",
    "x = sm.add_constant(x)\n",
    "\n",
    "model = sm.OLS(y, x).fit()\n",
    "predictions = model.predict()\n",
    "\n",
    "print(model.summary())"
   ],
   "metadata": {
    "collapsed": false
   }
  },
  {
   "cell_type": "markdown",
   "source": [
    "## Plot a graphic to quicly check linear"
   ],
   "metadata": {
    "collapsed": false
   }
  },
  {
   "cell_type": "code",
   "execution_count": 12,
   "outputs": [
    {
     "data": {
      "text/plain": "<Figure size 432x288 with 1 Axes>",
      "image/png": "[encoded data removed]"
     },
     "metadata": {
      "needs_background": "light"
     },
     "output_type": "display_data"
    }
   ],
   "source": [
    "import matplotlib.pyplot as plt\n",
    "\n",
    "plt.scatter(df['interest_rate'], df['index_price'], color='red')\n",
    "plt.title('Index price vs interest rate')\n",
    "plt.xlabel('Interest rate')\n",
    "plt.ylabel('Index price')\n",
    "plt.grid(True)\n",
    "plt.show()"
   ],
   "metadata": {
    "collapsed": false
   }
  },
  {
   "cell_type": "markdown",
   "source": [
    "## Perform multiple linear regression"
   ],
   "metadata": {
    "collapsed": false
   }
  },
  {
   "cell_type": "code",
   "execution_count": 20,
   "outputs": [
    {
     "name": "stdout",
     "output_type": "stream",
     "text": [
      "Intercept: \n",
      " 1596.479237057219\n",
      "Coefficients: \n",
      " [ 386.11269755 -232.3880109 ]\n"
     ]
    }
   ],
   "source": [
    "from sklearn.linear_model import LinearRegression\n",
    "from sklearn.model_selection import train_test_split\n",
    "\n",
    "X = df[['interest_rate', 'unemployment_rate']]\n",
    "y = df.index_price\n",
    "\n",
    "X_train, X_test, y_train, y_test = train_test_split(X, y, test_size=0.25)\n",
    "\n",
    "model = LinearRegression()\n",
    "model.fit(X_train, y_train)\n",
    "\n",
    "print('Intercept: \\n', model.intercept_)\n",
    "print('Coefficients: \\n', model.coef_)"
   ],
   "metadata": {
    "collapsed": false
   }
  }
 ],
 "metadata": {
  "kernelspec": {
   "display_name": "Python 3",
   "language": "python",
   "name": "python3"
  },
  "language_info": {
   "codemirror_mode": {
    "name": "ipython",
    "version": 2
   },
   "file_extension": ".py",
   "mimetype": "text/x-python",
   "name": "python",
   "nbconvert_exporter": "python",
   "pygments_lexer": "ipython2",
   "version": "2.7.6"
  }
 },
 "nbformat": 4,
 "nbformat_minor": 0
}
