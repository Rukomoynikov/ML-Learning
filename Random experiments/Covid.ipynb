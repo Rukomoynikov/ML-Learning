{
 "cells": [
  {
   "cell_type": "code",
   "execution_count": 2,
   "outputs": [],
   "source": [
    "import pandas as pd\n",
    "import numpy as np\n",
    "from sklearn.tree import DecisionTreeClassifier\n",
    "from sklearn.model_selection import train_test_split"
   ],
   "metadata": {
    "collapsed": false
   }
  },
  {
   "cell_type": "markdown",
   "source": [
    "## Regular learning using Tree and GridSearchCV"
   ],
   "metadata": {
    "collapsed": false
   }
  },
  {
   "cell_type": "code",
   "execution_count": 3,
   "outputs": [],
   "source": [
    "dataset = pd.read_csv(\"../Datasets/Covid+Data.csv\")\n",
    "# https://www.kaggle.com/datasets/meirnizri/covid19-dataset\n",
    "\n",
    "dataset['DATE_DIED'] = np.where(dataset['DATE_DIED'] == '9999-99-99', 1, 0)"
   ],
   "metadata": {
    "collapsed": false
   }
  },
  {
   "cell_type": "code",
   "execution_count": 4,
   "outputs": [],
   "source": [
    "X = dataset.drop(['DATE_DIED'], axis=1)\n",
    "y = dataset.DATE_DIED\n",
    "X_train, X_test, y_train, y_test = train_test_split(X, y, test_size=0.25)"
   ],
   "metadata": {
    "collapsed": false
   }
  },
  {
   "cell_type": "code",
   "execution_count": 5,
   "outputs": [
    {
     "data": {
      "text/plain": "0.9359397888183594"
     },
     "execution_count": 5,
     "metadata": {},
     "output_type": "execute_result"
    }
   ],
   "source": [
    "clf = DecisionTreeClassifier().fit(X_train,y_train)\n",
    "clf.score(X_test, y_test)"
   ],
   "metadata": {
    "collapsed": false
   }
  },
  {
   "cell_type": "code",
   "execution_count": 6,
   "outputs": [],
   "source": [
    "from sklearn.model_selection import GridSearchCV\n",
    "tree = DecisionTreeClassifier()\n",
    "grid_search_cv = GridSearchCV(tree, {'max_depth': [5,10,15]})\n",
    "grid_search_cv.fit(X_train, y_train)\n",
    "predicted = grid_search_cv.predict(X_test)"
   ],
   "metadata": {
    "collapsed": false
   }
  },
  {
   "cell_type": "code",
   "execution_count": 7,
   "outputs": [
    {
     "name": "stdout",
     "output_type": "stream",
     "text": [
      "Accuracy 0.9494743347167969 \n",
      "Recall: 0.9855121404803479 \n",
      "Precission: 0.9609409194765353\n"
     ]
    },
    {
     "data": {
      "text/plain": "0.9494743347167969"
     },
     "execution_count": 7,
     "metadata": {},
     "output_type": "execute_result"
    }
   ],
   "source": [
    "from sklearn.metrics import accuracy_score, recall_score, f1_score, precision_score\n",
    "print(f'Accuracy {accuracy_score(y_test, predicted)} \\nRecall: {recall_score(y_test, predicted)} \\nPrecission: {precision_score(y_test, predicted)}')\n",
    "grid_search_cv.score(X_test, y_test)"
   ],
   "metadata": {
    "collapsed": false
   }
  },
  {
   "cell_type": "code",
   "execution_count": 8,
   "outputs": [
    {
     "data": {
      "text/plain": "                features  features_importance\n3           PATIENT_TYPE             0.535593\n4                INTUBED             0.220269\n6                    AGE             0.121750\n18  CLASIFFICATION_FINAL             0.049788\n5              PNEUMONIA             0.029921\n1           MEDICAL_UNIT             0.019832\n19                   ICU             0.005220\n8               DIABETES             0.003323\n16         RENAL_CHRONIC             0.003158\n0                  USMER             0.002484\n2                    SEX             0.001645\n7               PREGNANT             0.001135\n17               TOBACCO             0.001081\n9                   COPD             0.001005\n15               OBESITY             0.001000\n13         OTHER_DISEASE             0.000777\n11               INMSUPR             0.000728\n12          HIPERTENSION             0.000725\n14        CARDIOVASCULAR             0.000331\n10                ASTHMA             0.000233",
      "text/html": "<div>\n<style scoped>\n    .dataframe tbody tr th:only-of-type {\n        vertical-align: middle;\n    }\n\n    .dataframe tbody tr th {\n        vertical-align: top;\n    }\n\n    .dataframe thead th {\n        text-align: right;\n    }\n</style>\n<table border=\"1\" class=\"dataframe\">\n  <thead>\n    <tr style=\"text-align: right;\">\n      <th></th>\n      <th>features</th>\n      <th>features_importance</th>\n    </tr>\n  </thead>\n  <tbody>\n    <tr>\n      <th>3</th>\n      <td>PATIENT_TYPE</td>\n      <td>0.535593</td>\n    </tr>\n    <tr>\n      <th>4</th>\n      <td>INTUBED</td>\n      <td>0.220269</td>\n    </tr>\n    <tr>\n      <th>6</th>\n      <td>AGE</td>\n      <td>0.121750</td>\n    </tr>\n    <tr>\n      <th>18</th>\n      <td>CLASIFFICATION_FINAL</td>\n      <td>0.049788</td>\n    </tr>\n    <tr>\n      <th>5</th>\n      <td>PNEUMONIA</td>\n      <td>0.029921</td>\n    </tr>\n    <tr>\n      <th>1</th>\n      <td>MEDICAL_UNIT</td>\n      <td>0.019832</td>\n    </tr>\n    <tr>\n      <th>19</th>\n      <td>ICU</td>\n      <td>0.005220</td>\n    </tr>\n    <tr>\n      <th>8</th>\n      <td>DIABETES</td>\n      <td>0.003323</td>\n    </tr>\n    <tr>\n      <th>16</th>\n      <td>RENAL_CHRONIC</td>\n      <td>0.003158</td>\n    </tr>\n    <tr>\n      <th>0</th>\n      <td>USMER</td>\n      <td>0.002484</td>\n    </tr>\n    <tr>\n      <th>2</th>\n      <td>SEX</td>\n      <td>0.001645</td>\n    </tr>\n    <tr>\n      <th>7</th>\n      <td>PREGNANT</td>\n      <td>0.001135</td>\n    </tr>\n    <tr>\n      <th>17</th>\n      <td>TOBACCO</td>\n      <td>0.001081</td>\n    </tr>\n    <tr>\n      <th>9</th>\n      <td>COPD</td>\n      <td>0.001005</td>\n    </tr>\n    <tr>\n      <th>15</th>\n      <td>OBESITY</td>\n      <td>0.001000</td>\n    </tr>\n    <tr>\n      <th>13</th>\n      <td>OTHER_DISEASE</td>\n      <td>0.000777</td>\n    </tr>\n    <tr>\n      <th>11</th>\n      <td>INMSUPR</td>\n      <td>0.000728</td>\n    </tr>\n    <tr>\n      <th>12</th>\n      <td>HIPERTENSION</td>\n      <td>0.000725</td>\n    </tr>\n    <tr>\n      <th>14</th>\n      <td>CARDIOVASCULAR</td>\n      <td>0.000331</td>\n    </tr>\n    <tr>\n      <th>10</th>\n      <td>ASTHMA</td>\n      <td>0.000233</td>\n    </tr>\n  </tbody>\n</table>\n</div>"
     },
     "execution_count": 8,
     "metadata": {},
     "output_type": "execute_result"
    }
   ],
   "source": [
    "feature_importance_df = pd.DataFrame({'features': list(X_train), 'features_importance': grid_search_cv.best_estimator_.feature_importances_})\n",
    "feature_importance_df.sort_values('features_importance', ascending=False)"
   ],
   "metadata": {
    "collapsed": false
   }
  },
  {
   "cell_type": "markdown",
   "source": [
    "## Random Forest"
   ],
   "metadata": {
    "collapsed": false
   }
  },
  {
   "cell_type": "code",
   "execution_count": 9,
   "outputs": [],
   "source": [
    "from sklearn.ensemble import RandomForestClassifier\n",
    "from sklearn.model_selection import GridSearchCV"
   ],
   "metadata": {
    "collapsed": false
   }
  },
  {
   "cell_type": "code",
   "execution_count": 10,
   "outputs": [],
   "source": [
    "forest_clf = RandomForestClassifier()"
   ],
   "metadata": {
    "collapsed": false
   }
  },
  {
   "cell_type": "code",
   "execution_count": 11,
   "outputs": [],
   "source": [
    "parameters = {'n_estimators': [10,20,30], 'max_depth': [2,5,7,10]}"
   ],
   "metadata": {
    "collapsed": false
   }
  },
  {
   "cell_type": "code",
   "execution_count": 12,
   "outputs": [
    {
     "data": {
      "text/plain": "GridSearchCV(estimator=RandomForestClassifier(),\n             param_grid={'max_depth': [2, 5, 7, 10],\n                         'n_estimators': [10, 20, 30]})"
     },
     "execution_count": 12,
     "metadata": {},
     "output_type": "execute_result"
    }
   ],
   "source": [
    "grid_search_cv = GridSearchCV(forest_clf, parameters)\n",
    "grid_search_cv.fit(X_train, y_train)"
   ],
   "metadata": {
    "collapsed": false
   }
  },
  {
   "cell_type": "code",
   "execution_count": 13,
   "outputs": [
    {
     "name": "stdout",
     "output_type": "stream",
     "text": [
      "Accuracy 0.9495582580566406 \n",
      "Recall: 0.988522551312885 \n",
      "Precission: 0.9583348305006927\n"
     ]
    },
    {
     "data": {
      "text/plain": "0.9495582580566406"
     },
     "execution_count": 13,
     "metadata": {},
     "output_type": "execute_result"
    }
   ],
   "source": [
    "best_clf = grid_search_cv.best_estimator_\n",
    "predicted = best_clf.predict(X_test)\n",
    "print(f'Accuracy {accuracy_score(y_test, predicted)} \\nRecall: {recall_score(y_test, predicted)} \\nPrecission: {precision_score(y_test, predicted)}')\n",
    "grid_search_cv.score(X_test, y_test)"
   ],
   "metadata": {
    "collapsed": false
   }
  },
  {
   "cell_type": "markdown",
   "source": [
    "### Most important features"
   ],
   "metadata": {
    "collapsed": false
   }
  },
  {
   "cell_type": "code",
   "execution_count": 14,
   "outputs": [
    {
     "data": {
      "text/plain": "                features  feature_importance\n4                INTUBED            0.297561\n3           PATIENT_TYPE            0.184189\n19                   ICU            0.176515\n6                    AGE            0.122133\n5              PNEUMONIA            0.101184\n18  CLASIFFICATION_FINAL            0.050366\n1           MEDICAL_UNIT            0.020555\n8               DIABETES            0.013857\n12          HIPERTENSION            0.012145\n0                  USMER            0.005182\n2                    SEX            0.003451\n7               PREGNANT            0.002443\n16         RENAL_CHRONIC            0.002204\n15               OBESITY            0.001788\n9                   COPD            0.001262\n14        CARDIOVASCULAR            0.001151\n17               TOBACCO            0.001059\n13         OTHER_DISEASE            0.001036\n10                ASTHMA            0.000983\n11               INMSUPR            0.000938",
      "text/html": "<div>\n<style scoped>\n    .dataframe tbody tr th:only-of-type {\n        vertical-align: middle;\n    }\n\n    .dataframe tbody tr th {\n        vertical-align: top;\n    }\n\n    .dataframe thead th {\n        text-align: right;\n    }\n</style>\n<table border=\"1\" class=\"dataframe\">\n  <thead>\n    <tr style=\"text-align: right;\">\n      <th></th>\n      <th>features</th>\n      <th>feature_importance</th>\n    </tr>\n  </thead>\n  <tbody>\n    <tr>\n      <th>4</th>\n      <td>INTUBED</td>\n      <td>0.297561</td>\n    </tr>\n    <tr>\n      <th>3</th>\n      <td>PATIENT_TYPE</td>\n      <td>0.184189</td>\n    </tr>\n    <tr>\n      <th>19</th>\n      <td>ICU</td>\n      <td>0.176515</td>\n    </tr>\n    <tr>\n      <th>6</th>\n      <td>AGE</td>\n      <td>0.122133</td>\n    </tr>\n    <tr>\n      <th>5</th>\n      <td>PNEUMONIA</td>\n      <td>0.101184</td>\n    </tr>\n    <tr>\n      <th>18</th>\n      <td>CLASIFFICATION_FINAL</td>\n      <td>0.050366</td>\n    </tr>\n    <tr>\n      <th>1</th>\n      <td>MEDICAL_UNIT</td>\n      <td>0.020555</td>\n    </tr>\n    <tr>\n      <th>8</th>\n      <td>DIABETES</td>\n      <td>0.013857</td>\n    </tr>\n    <tr>\n      <th>12</th>\n      <td>HIPERTENSION</td>\n      <td>0.012145</td>\n    </tr>\n    <tr>\n      <th>0</th>\n      <td>USMER</td>\n      <td>0.005182</td>\n    </tr>\n    <tr>\n      <th>2</th>\n      <td>SEX</td>\n      <td>0.003451</td>\n    </tr>\n    <tr>\n      <th>7</th>\n      <td>PREGNANT</td>\n      <td>0.002443</td>\n    </tr>\n    <tr>\n      <th>16</th>\n      <td>RENAL_CHRONIC</td>\n      <td>0.002204</td>\n    </tr>\n    <tr>\n      <th>15</th>\n      <td>OBESITY</td>\n      <td>0.001788</td>\n    </tr>\n    <tr>\n      <th>9</th>\n      <td>COPD</td>\n      <td>0.001262</td>\n    </tr>\n    <tr>\n      <th>14</th>\n      <td>CARDIOVASCULAR</td>\n      <td>0.001151</td>\n    </tr>\n    <tr>\n      <th>17</th>\n      <td>TOBACCO</td>\n      <td>0.001059</td>\n    </tr>\n    <tr>\n      <th>13</th>\n      <td>OTHER_DISEASE</td>\n      <td>0.001036</td>\n    </tr>\n    <tr>\n      <th>10</th>\n      <td>ASTHMA</td>\n      <td>0.000983</td>\n    </tr>\n    <tr>\n      <th>11</th>\n      <td>INMSUPR</td>\n      <td>0.000938</td>\n    </tr>\n  </tbody>\n</table>\n</div>"
     },
     "execution_count": 14,
     "metadata": {},
     "output_type": "execute_result"
    }
   ],
   "source": [
    "feature_importance_df = pd.DataFrame({'features': list(X_train), 'feature_importance': best_clf.feature_importances_ })\n",
    "# grid_search_cv.best_estimator_.feature_importances_\n",
    "feature_importance_df.sort_values('feature_importance', ascending=False)"
   ],
   "metadata": {
    "collapsed": false
   }
  }
 ],
 "metadata": {
  "kernelspec": {
   "display_name": "Python 3",
   "language": "python",
   "name": "python3"
  },
  "language_info": {
   "codemirror_mode": {
    "name": "ipython",
    "version": 2
   },
   "file_extension": ".py",
   "mimetype": "text/x-python",
   "name": "python",
   "nbconvert_exporter": "python",
   "pygments_lexer": "ipython2",
   "version": "2.7.6"
  }
 },
 "nbformat": 4,
 "nbformat_minor": 0
}
