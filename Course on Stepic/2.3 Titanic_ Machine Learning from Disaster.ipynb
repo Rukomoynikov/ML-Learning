{
 "cells": [
  {
   "cell_type": "markdown",
   "source": [
    "## Занятие по уроку Титаник"
   ],
   "attachments": {},
   "metadata": {
    "datalore": {
     "node_id": "lLCt8XxpubMgiBQ2tEAVu8",
     "type": "MD",
     "hide_input_from_viewers": true,
     "hide_output_from_viewers": true
    }
   }
  },
  {
   "cell_type": "code",
   "source": [
    "import pandas as pd\n",
    "import numpy as np\n",
    "from sklearn import tree\n",
    "%matplotlib inline"
   ],
   "execution_count": null,
   "outputs": [],
   "metadata": {
    "datalore": {
     "node_id": "ir8oTXL5GcKWAUpneDdzUw",
     "type": "CODE",
     "hide_input_from_viewers": false,
     "hide_output_from_viewers": false,
     "report_properties": {
      "y": 0
     }
    },
    "pycharm": {
     "is_executing": true
    }
   }
  },
  {
   "cell_type": "code",
   "source": [
    "titanic_data = pd.read_csv('./train.csv')\n",
    "titanic_data.head()"
   ],
   "execution_count": null,
   "outputs": [],
   "metadata": {
    "datalore": {
     "node_id": "76UnICOQPExPaKBm60ueEX",
     "type": "CODE",
     "hide_input_from_viewers": false,
     "hide_output_from_viewers": false,
     "report_properties": {
      "y": 5
     }
    },
    "pycharm": {
     "is_executing": true
    }
   }
  },
  {
   "cell_type": "markdown",
   "source": [
    "# Проверка на наличие нанов"
   ],
   "attachments": {},
   "metadata": {
    "datalore": {
     "node_id": "RVz2zX73631puNsxf9Ti4e",
     "type": "MD",
     "hide_input_from_viewers": false,
     "hide_output_from_viewers": false,
     "report_properties": {
      "y": 15
     }
    }
   }
  },
  {
   "cell_type": "code",
   "source": [
    "titanic_data.isnull().sum()"
   ],
   "execution_count": 6,
   "outputs": [
    {
     "data": {
      "text/html": [
       "<pre>PassengerId      0\n",
       "Survived         0\n",
       "Pclass           0\n",
       "Name             0\n",
       "Sex              0\n",
       "Age            177\n",
       "SibSp            0\n",
       "Parch            0\n",
       "Ticket           0\n",
       "Fare             0\n",
       "Cabin          687\n",
       "Embarked         2\n",
       "dtype: int64</pre>"
      ]
     },
     "metadata": {},
     "output_type": "display_data"
    }
   ],
   "metadata": {
    "datalore": {
     "node_id": "fLghzNH6JDhd15u9lTSJv2",
     "type": "CODE",
     "hide_input_from_viewers": false,
     "hide_output_from_viewers": false,
     "report_properties": {
      "y": 19
     }
    }
   }
  },
  {
   "cell_type": "code",
   "source": [
    "# Удалить нерелевантные для определения выживаемости данные\n",
    "X = titanic_data.drop(['PassengerId', 'Survived', 'Name', 'Ticket', 'Cabin'], axis=1)\n",
    "Y = titanic_data.Survived"
   ],
   "execution_count": 7,
   "outputs": [],
   "metadata": {
    "datalore": {
     "node_id": "euVgPqePAgMXa2Gzw0YsAP",
     "type": "CODE",
     "hide_input_from_viewers": false,
     "hide_output_from_viewers": false,
     "report_properties": {
      "y": 28
     }
    }
   }
  },
  {
   "cell_type": "markdown",
   "source": [
    "## Предобработка данных"
   ],
   "attachments": {},
   "metadata": {
    "datalore": {
     "node_id": "cdl3wcYGvtGYUtuGuxD0Va",
     "type": "MD",
     "hide_input_from_viewers": false,
     "hide_output_from_viewers": false,
     "report_properties": {
      "y": 32
     }
    }
   }
  },
  {
   "cell_type": "code",
   "source": [
    "X = pd.get_dummies(X) # Деление male/female на 0 и 1\n",
    "X = X.fillna({ 'Age': X.Age.median() })\n",
    "\n",
    "X.head()"
   ],
   "execution_count": 8,
   "outputs": [
    {
     "data": {
      "text/html": [
       "<div>\n",
       "<style scoped>\n",
       "    .dataframe tbody tr th:only-of-type {\n",
       "        vertical-align: middle;\n",
       "    }\n",
       "\n",
       "    .dataframe tbody tr th {\n",
       "        vertical-align: top;\n",
       "    }\n",
       "\n",
       "    .dataframe thead th {\n",
       "        text-align: right;\n",
       "    }\n",
       "</style>\n",
       "<table border=\"1\" class=\"dataframe\">\n",
       "  <thead>\n",
       "    <tr style=\"text-align: right;\">\n",
       "      <th></th>\n",
       "      <th>Pclass</th>\n",
       "      <th>Age</th>\n",
       "      <th>SibSp</th>\n",
       "      <th>Parch</th>\n",
       "      <th>Fare</th>\n",
       "      <th>Sex_female</th>\n",
       "      <th>Sex_male</th>\n",
       "      <th>Embarked_C</th>\n",
       "      <th>Embarked_Q</th>\n",
       "      <th>Embarked_S</th>\n",
       "    </tr>\n",
       "  </thead>\n",
       "  <tbody>\n",
       "    <tr>\n",
       "      <th>0</th>\n",
       "      <td>3</td>\n",
       "      <td>22.0</td>\n",
       "      <td>1</td>\n",
       "      <td>0</td>\n",
       "      <td>7.2500</td>\n",
       "      <td>0</td>\n",
       "      <td>1</td>\n",
       "      <td>0</td>\n",
       "      <td>0</td>\n",
       "      <td>1</td>\n",
       "    </tr>\n",
       "    <tr>\n",
       "      <th>1</th>\n",
       "      <td>1</td>\n",
       "      <td>38.0</td>\n",
       "      <td>1</td>\n",
       "      <td>0</td>\n",
       "      <td>71.2833</td>\n",
       "      <td>1</td>\n",
       "      <td>0</td>\n",
       "      <td>1</td>\n",
       "      <td>0</td>\n",
       "      <td>0</td>\n",
       "    </tr>\n",
       "    <tr>\n",
       "      <th>2</th>\n",
       "      <td>3</td>\n",
       "      <td>26.0</td>\n",
       "      <td>0</td>\n",
       "      <td>0</td>\n",
       "      <td>7.9250</td>\n",
       "      <td>1</td>\n",
       "      <td>0</td>\n",
       "      <td>0</td>\n",
       "      <td>0</td>\n",
       "      <td>1</td>\n",
       "    </tr>\n",
       "    <tr>\n",
       "      <th>3</th>\n",
       "      <td>1</td>\n",
       "      <td>35.0</td>\n",
       "      <td>1</td>\n",
       "      <td>0</td>\n",
       "      <td>53.1000</td>\n",
       "      <td>1</td>\n",
       "      <td>0</td>\n",
       "      <td>0</td>\n",
       "      <td>0</td>\n",
       "      <td>1</td>\n",
       "    </tr>\n",
       "    <tr>\n",
       "      <th>4</th>\n",
       "      <td>3</td>\n",
       "      <td>35.0</td>\n",
       "      <td>0</td>\n",
       "      <td>0</td>\n",
       "      <td>8.0500</td>\n",
       "      <td>0</td>\n",
       "      <td>1</td>\n",
       "      <td>0</td>\n",
       "      <td>0</td>\n",
       "      <td>1</td>\n",
       "    </tr>\n",
       "  </tbody>\n",
       "</table>\n",
       "</div>"
      ]
     },
     "metadata": {},
     "output_type": "display_data"
    }
   ],
   "metadata": {
    "datalore": {
     "node_id": "MLpkTydem9AYT13q5EIYNs",
     "type": "CODE",
     "hide_input_from_viewers": false,
     "hide_output_from_viewers": false,
     "report_properties": {
      "y": 36
     }
    }
   }
  },
  {
   "cell_type": "markdown",
   "source": [
    "## Инициализация классификатора DecisionTreeClassifier"
   ],
   "attachments": {},
   "metadata": {
    "datalore": {
     "node_id": "NCmob5mvhezWUxzTYhaoZi",
     "type": "MD",
     "hide_input_from_viewers": true,
     "hide_output_from_viewers": true
    }
   }
  },
  {
   "cell_type": "code",
   "source": [
    "clf = tree.DecisionTreeClassifier(criterion='entropy', max_depth=5)"
   ],
   "execution_count": 9,
   "outputs": [],
   "metadata": {
    "datalore": {
     "node_id": "ARQTv3fo50CpwZZaSmy51A",
     "type": "CODE",
     "hide_input_from_viewers": false,
     "hide_output_from_viewers": false,
     "report_properties": {
      "y": 45
     }
    }
   }
  },
  {
   "cell_type": "markdown",
   "source": [
    "## Деление даты на чанки"
   ],
   "attachments": {},
   "metadata": {
    "datalore": {
     "node_id": "Nz0oXgZe7mpVUecTAJ9tZw",
     "type": "MD",
     "hide_input_from_viewers": true,
     "hide_output_from_viewers": true
    }
   }
  },
  {
   "cell_type": "code",
   "source": [
    "from sklearn.model_selection import train_test_split"
   ],
   "execution_count": 10,
   "outputs": [],
   "metadata": {
    "datalore": {
     "node_id": "kgG2e8uJ2vjAGWxm7T9rMl",
     "type": "CODE",
     "hide_input_from_viewers": true,
     "hide_output_from_viewers": true
    }
   }
  },
  {
   "cell_type": "code",
   "source": [
    "X_train, X_test, Y_train, Y_test = train_test_split(X, Y, test_size=0.33, random_state=42)"
   ],
   "execution_count": 11,
   "outputs": [],
   "metadata": {
    "datalore": {
     "node_id": "sewHArxv9LnJxcTG5nhoe1",
     "type": "CODE",
     "hide_input_from_viewers": true,
     "hide_output_from_viewers": true
    }
   }
  },
  {
   "cell_type": "markdown",
   "source": [
    "Для того чтобы проверить как классификатор научился распозновать паттерны (закономерности) можно обучить на тесте и проверить скор на данных которые классификатор не видел."
   ],
   "attachments": {},
   "metadata": {
    "datalore": {
     "node_id": "2gcuuzBb2qEleQrcrfk2su",
     "type": "MD",
     "hide_input_from_viewers": true,
     "hide_output_from_viewers": true
    }
   }
  },
  {
   "cell_type": "code",
   "source": [
    "clf.fit(X_train, Y_train)\n",
    "clf.score(X_test, Y_test)"
   ],
   "execution_count": 12,
   "outputs": [
    {
     "data": {
      "text/plain": [
       "0.8067796610169492"
      ]
     },
     "metadata": {},
     "output_type": "display_data"
    }
   ],
   "metadata": {
    "datalore": {
     "node_id": "YTbhpYOvw1HzXtrEUvNaw6",
     "type": "CODE",
     "hide_input_from_viewers": true,
     "hide_output_from_viewers": true
    }
   }
  },
  {
   "cell_type": "markdown",
   "source": [
    "## Кроссвалидация\n",
    "\n",
    "Датасеты - train dataset используется для тренировки модели, validation - для её проверки, тестовый датасет выступает как ещё один уровень проверки, которая происходит на не показанных модели ранее данных"
   ],
   "attachments": {},
   "metadata": {
    "datalore": {
     "node_id": "GVtX39S2QnuP7gFmOCIPlQ",
     "type": "MD",
     "hide_input_from_viewers": true,
     "hide_output_from_viewers": true
    }
   }
  },
  {
   "cell_type": "code",
   "source": [
    "from sklearn.model_selection import cross_val_score"
   ],
   "execution_count": 13,
   "outputs": [],
   "metadata": {
    "datalore": {
     "node_id": "ifzSOHVp7DSaNCKq9NYxB9",
     "type": "CODE",
     "hide_input_from_viewers": true,
     "hide_output_from_viewers": true
    }
   }
  },
  {
   "cell_type": "code",
   "source": [
    "clf = tree.DecisionTreeClassifier(criterion='entropy', max_depth=10)"
   ],
   "execution_count": 14,
   "outputs": [],
   "metadata": {
    "datalore": {
     "node_id": "DGbQB7frIapaMyqCQHNQwH",
     "type": "CODE",
     "hide_input_from_viewers": true,
     "hide_output_from_viewers": true
    }
   }
  },
  {
   "cell_type": "code",
   "source": [
    "np.median(cross_val_score(clf, X_train, Y_train, cv=5))"
   ],
   "execution_count": 15,
   "outputs": [
    {
     "data": {
      "text/plain": [
       "0.7916666666666666"
      ]
     },
     "metadata": {},
     "output_type": "display_data"
    }
   ],
   "metadata": {
    "datalore": {
     "node_id": "3OPw88vFV8MOcEEOb8BUM9",
     "type": "CODE",
     "hide_input_from_viewers": true,
     "hide_output_from_viewers": true
    }
   }
  },
  {
   "cell_type": "markdown",
   "source": [
    "## Завод по подбору параметров GridSearch"
   ],
   "attachments": {},
   "metadata": {
    "datalore": {
     "node_id": "6CrMUJjqFxL81QIb0LLk1u",
     "type": "MD",
     "hide_input_from_viewers": true,
     "hide_output_from_viewers": true
    }
   }
  },
  {
   "cell_type": "code",
   "source": [
    "from sklearn.model_selection import GridSearchCV\n",
    "from sklearn import tree"
   ],
   "execution_count": 16,
   "outputs": [],
   "metadata": {
    "datalore": {
     "node_id": "vy5vHg0BgdbcRMKftBDAWB",
     "type": "CODE",
     "hide_input_from_viewers": true,
     "hide_output_from_viewers": true
    }
   }
  },
  {
   "cell_type": "code",
   "source": [
    "clf = tree.DecisionTreeClassifier()\n",
    "grid_search_clf = GridSearchCV(clf, {'criterion': ['gini', 'entropy'], 'max_depth': range(1,30)}, cv=5)\n",
    "grid_search_clf.fit(X_train, Y_train)"
   ],
   "execution_count": 17,
   "outputs": [
    {
     "data": {
      "text/plain": [
       "GridSearchCV(cv=5, estimator=DecisionTreeClassifier(),\n",
       "             param_grid={'criterion': ['gini', 'entropy'],\n",
       "                         'max_depth': range(1, 30)})"
      ]
     },
     "metadata": {},
     "output_type": "display_data"
    }
   ],
   "metadata": {
    "datalore": {
     "node_id": "FF7JZkgupa8oEkaN0zsRQa",
     "type": "CODE",
     "hide_input_from_viewers": true,
     "hide_output_from_viewers": true
    }
   }
  },
  {
   "cell_type": "code",
   "source": [
    "grid_search_clf.best_params_\n",
    "best_clf = grid_search_clf.best_estimator_\n",
    "predicted = best_clf.predict(X_test)"
   ],
   "execution_count": 18,
   "outputs": [],
   "metadata": {
    "datalore": {
     "node_id": "ktZdDCAG52Iv047MorhhAb",
     "type": "CODE",
     "hide_input_from_viewers": true,
     "hide_output_from_viewers": true
    }
   }
  },
  {
   "cell_type": "markdown",
   "source": [
    "## Precision и Recall\n",
    "\n",
    "<img src=\"./Type-I-and-II-errors1-625x468.jpg\" />\n",
    "\n",
    "Чтобы посчитать **Precision** надо выполнить такую формулу $\\Large\\frac{TP}{TP + FP}$, а для Recall соответственно $\\Large\\frac{TN}{TN + FN}$. Например, есть 9 пассажиров Титаника из них 6 выжили и 3 нет. Модель отметила что выжили 7 и 2 нет. Значит Precission $\\Large\\frac{6}{6 + 1} = 85%$, а Recall $\\Large\\frac{2}{2 + 0} = 100%$.\n",
    "\n",
    "В разных случаях можно тюнить разные показатели."
   ],
   "attachments": {},
   "metadata": {
    "datalore": {
     "node_id": "zXQRB3CyZshtPC4kxySvCi",
     "type": "MD",
     "hide_input_from_viewers": true,
     "hide_output_from_viewers": true
    }
   }
  },
  {
   "cell_type": "code",
   "source": [
    "# https://scikit-learn.org/stable/modules/classes.html#module-sklearn.metrics\n",
    "from sklearn.metrics import precision_score, recall_score, f1_score"
   ],
   "execution_count": 19,
   "outputs": [],
   "metadata": {
    "datalore": {
     "node_id": "RshyJkADwwvyIDeJVl8mtj",
     "type": "CODE",
     "hide_input_from_viewers": true,
     "hide_output_from_viewers": true
    }
   }
  },
  {
   "cell_type": "code",
   "source": [
    "message = f'Precision равен {precision_score(Y_test, predicted)}, Recall равен {recall_score(Y_test, predicted)} и F-мера {f1_score(Y_test, predicted)}'\n",
    "print(message)"
   ],
   "execution_count": 20,
   "outputs": [
    {
     "name": "stdout",
     "text": [
      "Precision равен 0.75, Recall равен 0.65 и F-мера 0.6964285714285715\n"
     ],
     "output_type": "stream"
    }
   ],
   "metadata": {
    "datalore": {
     "node_id": "8TfGzyptGm4wfisLVGBVTI",
     "type": "CODE",
     "hide_input_from_viewers": true,
     "hide_output_from_viewers": true
    }
   }
  },
  {
   "cell_type": "markdown",
   "source": [
    "### Тюнинг precission и recall для модели"
   ],
   "attachments": {},
   "metadata": {
    "datalore": {
     "node_id": "NJSoE6npUBCUm7Sd99gGSH",
     "type": "MD",
     "hide_input_from_viewers": true,
     "hide_output_from_viewers": true
    }
   }
  },
  {
   "cell_type": "code",
   "source": [
    "# Вероятность отнессения к классу выживших\n",
    "pd.Series(best_clf.predict_proba(X_test)[:, 1]).hist()"
   ],
   "execution_count": 21,
   "outputs": [
    {
     "data": {
      "text/plain": [
       "<AxesSubplot:>"
      ]
     },
     "metadata": {},
     "output_type": "display_data"
    },
    {
     "data": {
      "image/png": "[encoded data removed]"
     },
     "metadata": {
      "image/png": {}
     },
     "output_type": "display_data"
    }
   ],
   "metadata": {
    "datalore": {
     "node_id": "fEGsOqLNKMO5x1miujw99H",
     "type": "CODE",
     "hide_input_from_viewers": true,
     "hide_output_from_viewers": true
    }
   }
  },
  {
   "cell_type": "code",
   "source": [
    "message = f'Precision равен {precision_score(Y_test, predicted)}, Recall равен {recall_score(Y_test, predicted)} и F-мера {f1_score(Y_test, predicted)}'\n",
    "print(message)"
   ],
   "execution_count": 22,
   "outputs": [
    {
     "name": "stdout",
     "text": [
      "Precision равен 0.75, Recall равен 0.65 и F-мера 0.6964285714285715\n"
     ],
     "output_type": "stream"
    }
   ],
   "metadata": {
    "datalore": {
     "node_id": "d4JuzzyrTQPHQRFKAh8iN7",
     "type": "CODE",
     "hide_input_from_viewers": true,
     "hide_output_from_viewers": true
    }
   }
  },
  {
   "cell_type": "code",
   "source": [
    "# По умолчанию если шанс отнести к 1 больше 50% то это 1, если нет то 0. Но, если сделать эти проценты вероятности строже, то можно повлиять на precssion score и на recall.\n",
    "# Для начала поднимем Precission score\n",
    "improved_precission = np.where(best_clf.predict_proba(X_test)[:, 1] > 0.95, 1, 0)\n",
    "print(f'Если относить к выжившим всех у кого шанс выжить > 95%, тогда Precission score будет {precision_score(Y_test, improved_precission)}, но recall {recall_score(Y_test, improved_precission)}')\n",
    "improved_recall = np.where(best_clf.predict_proba(X_test)[:, 1] > 0.05, 1, 0)\n",
    "print(f'Если относить к выжившим всех у кого шанс выжить > 5%, тогда Precission score будет {precision_score(Y_test, improved_recall)}, но recall {recall_score(Y_test, improved_recall)}')"
   ],
   "execution_count": 33,
   "outputs": [
    {
     "name": "stdout",
     "text": [
      "Если относить к выжившим всех у кого шанс выжить > 95%, тогда Precission score будет 0.7956989247311828, но recall 0.6166666666666667\n",
      "Если относить к выжившим всех у кого шанс выжить > 5%, тогда Precission score будет 0.5439560439560439, но recall 0.825\n"
     ],
     "output_type": "stream"
    }
   ],
   "metadata": {
    "datalore": {
     "node_id": "yaYtzxlkF9ecVbRcBKPr6s",
     "type": "CODE",
     "hide_input_from_viewers": true,
     "hide_output_from_viewers": true
    }
   }
  },
  {
   "cell_type": "markdown",
   "source": [
    "## ROC и auc\n",
    "\n",
    "https://scikit-learn.org/stable/auto_examples/model_selection/plot_roc.html"
   ],
   "attachments": {},
   "metadata": {
    "datalore": {
     "node_id": "MBSLKmA4wRM8uQtkX9Evux",
     "type": "MD",
     "hide_input_from_viewers": true,
     "hide_output_from_viewers": true
    }
   }
  },
  {
   "cell_type": "code",
   "source": [
    "from sklearn.metrics import roc_curve, auc\n",
    "import matplotlib.pyplot as plt\n",
    "import numpy as np"
   ],
   "execution_count": 52,
   "outputs": [],
   "metadata": {
    "datalore": {
     "node_id": "YMB9At7Uyj5y3GVHHxLRbW",
     "type": "CODE",
     "hide_input_from_viewers": true,
     "hide_output_from_viewers": true
    }
   }
  },
  {
   "cell_type": "code",
   "source": [
    "fpr, tpr, threshold = roc_curve(Y_test, best_clf.predict_proba(X_test)[:, 1])\n",
    "roc_auc = auc(fpr, tpr)"
   ],
   "execution_count": 34,
   "outputs": [],
   "metadata": {
    "datalore": {
     "node_id": "sbbBlFB0AjmTMBd5TqtErp",
     "type": "CODE",
     "hide_input_from_viewers": true,
     "hide_output_from_viewers": true
    }
   }
  },
  {
   "cell_type": "markdown",
   "source": [
    "## Полный эксперимент с заполнением возраста из обученной модели DecissionTreeRegressions\n",
    "\n",
    "Цель сравнить точность предсказания с возрастом заполненным median'ым значением и предсказанным значением"
   ],
   "attachments": {},
   "metadata": {
    "datalore": {
     "node_id": "ZWiqgDZekkLwDpDRSVyMIF",
     "type": "MD",
     "hide_input_from_viewers": true,
     "hide_output_from_viewers": true
    }
   }
  },
  {
   "cell_type": "code",
   "source": [
    "from sklearn.tree import DecisionTreeRegressor\n",
    "from sklearn.model_selection import train_test_split\n",
    "import pandas as pd\n",
    "import numpy as np"
   ],
   "execution_count": 110,
   "outputs": [],
   "metadata": {
    "datalore": {
     "node_id": "mG0m469bPNCQgawQtJ20m7",
     "type": "CODE",
     "hide_input_from_viewers": true,
     "hide_output_from_viewers": true
    }
   }
  },
  {
   "cell_type": "code",
   "source": [
    "titanic_data = pd.read_csv(\"./train.csv\")\n",
    "# titanic_data = titanic_data.set_index('PassengerId')\n",
    "\n",
    "# Change type of values for Sex column\n",
    "titanic_data['Sex'] = np.where(titanic_data['Sex'] == 'female', 0, 1)\n",
    "\n",
    "# Remove rows with NaN in age\n",
    "rows_witn_unknown_age = titanic_data[np.isnan(titanic_data.Age)]\n",
    "rows_witn_known_age = titanic_data[np.isnan(titanic_data.Age) == False]"
   ],
   "execution_count": 111,
   "outputs": [],
   "metadata": {
    "datalore": {
     "node_id": "0Pc8KS3Ovo9LSibIvUVzfE",
     "type": "CODE",
     "hide_input_from_viewers": true,
     "hide_output_from_viewers": true
    }
   }
  },
  {
   "cell_type": "markdown",
   "source": [
    "### Обучение дерева_регресии для предсказания возраста"
   ],
   "attachments": {},
   "metadata": {
    "datalore": {
     "node_id": "dgy9pS23HsTpyW7Ttvv4jd",
     "type": "MD",
     "hide_input_from_viewers": true,
     "hide_output_from_viewers": true
    }
   }
  },
  {
   "cell_type": "code",
   "source": [
    "X = rows_witn_known_age.get(['Survived', 'Sex', 'Pclass'])\n",
    "Y = rows_witn_known_age.Age\n",
    "\n",
    "X_train, X_test, Y_train, Y_test = train_test_split(X, Y, test_size=0.33, random_state=42)\n",
    "\n",
    "regressor_clf = DecisionTreeRegressor()\n",
    "regressor_clf.fit(X_train, Y_train)\n",
    "\n",
    "predicted_ages = regressor_clf.predict(rows_witn_unknown_age.get(['Survived', 'Sex', 'Pclass']))\n",
    "rows_witn_unknown_age.loc[:,'Age'] = predicted_ages\n",
    "\n",
    "titanic_data_with_age = rows_witn_known_age.merge(rows_witn_unknown_age, how='outer')"
   ],
   "execution_count": 112,
   "outputs": [
    {
     "name": "stderr",
     "text": [
      "/opt/python/envs/default/lib/python3.8/site-packages/pandas/core/indexing.py:1773: SettingWithCopyWarning: \n",
      "A value is trying to be set on a copy of a slice from a DataFrame.\n",
      "Try using .loc[row_indexer,col_indexer] = value instead\n",
      "\n",
      "See the caveats in the documentation: https://pandas.pydata.org/pandas-docs/stable/user_guide/indexing.html#returning-a-view-versus-a-copy\n",
      "  self._setitem_single_column(ilocs[0], value, pi)\n"
     ],
     "output_type": "stream"
    }
   ],
   "metadata": {
    "datalore": {
     "node_id": "LQIeM0m4DraXEk3b1i2rQs",
     "type": "CODE",
     "hide_input_from_viewers": true,
     "hide_output_from_viewers": true
    }
   }
  },
  {
   "cell_type": "markdown",
   "source": [
    "### Использование выборки с возрастом"
   ],
   "attachments": {},
   "metadata": {
    "datalore": {
     "node_id": "bbVhMZSpRy0SAR88ziw6IW",
     "type": "MD",
     "hide_input_from_viewers": true,
     "hide_output_from_viewers": true
    }
   }
  },
  {
   "cell_type": "code",
   "source": [
    "from sklearn.tree import DecisionTreeClassifier\n",
    "from sklearn.model_selection import GridSearchCV, train_test_split\n",
    "from sklearn.metrics import precision_score, recall_score, f1_score, accuracy_score"
   ],
   "execution_count": 125,
   "outputs": [],
   "metadata": {
    "datalore": {
     "node_id": "BaE7SNIPxtAwSEmo954njR",
     "type": "CODE",
     "hide_input_from_viewers": true,
     "hide_output_from_viewers": true
    }
   }
  },
  {
   "cell_type": "code",
   "source": [
    "X = titanic_data_with_age.get(['Pclass', 'Sex', 'Age'])\n",
    "Y = titanic_data_with_age.Survived\n",
    "\n",
    "X_train, X_test, Y_train, Y_test = train_test_split(X, Y, test_size=0.33, random_state=42)\n",
    "\n",
    "grid_search_clf = GridSearchCV(DecisionTreeClassifier(), {'max_depth': [5, 7, 10, 13, 15]})\n",
    "grid_search_clf.fit(X_train, Y_train)\n",
    "\n",
    "predicted = grid_search_clf.best_estimator_.predict(X_test)\n",
    "\n",
    "print(f'Precision: {precision_score(Y_test, predicted)}')\n",
    "print(f'Recall равен {recall_score(Y_test, predicted)}')\n",
    "print(f'F1-мера {f1_score(Y_test, predicted)}')\n",
    "print(f'Accuracy {accuracy_score(Y_test, predicted)}')"
   ],
   "execution_count": 126,
   "outputs": [
    {
     "name": "stdout",
     "text": [
      "Precision: 0.8247422680412371\n",
      "Recall равен 0.6896551724137931\n",
      "F1-мера 0.7511737089201878\n",
      "Accuracy 0.8203389830508474\n"
     ],
     "output_type": "stream"
    }
   ],
   "metadata": {
    "datalore": {
     "node_id": "zqeRbciOrCGdDGReOD8RHt",
     "type": "CODE",
     "hide_input_from_viewers": true,
     "hide_output_from_viewers": true
    }
   }
  },
  {
   "cell_type": "markdown",
   "source": [
    "### Предсказание при помощи обычного дерева с медианным значением возраста где было пусто"
   ],
   "attachments": {},
   "metadata": {
    "datalore": {
     "node_id": "T10OoRnWzX1ujGT7Qfo2cO",
     "type": "MD",
     "hide_input_from_viewers": true,
     "hide_output_from_viewers": true
    }
   }
  },
  {
   "cell_type": "code",
   "source": [
    "from sklearn.tree import DecisionTreeClassifier\n",
    "from sklearn.model_selection import GridSearchCV, train_test_split\n",
    "from sklearn.metrics import precision_score, recall_score, f1_score, accuracy_score\n",
    "import pandas as pd\n",
    "import numpy as np"
   ],
   "execution_count": 129,
   "outputs": [],
   "metadata": {
    "datalore": {
     "node_id": "oty1QMpKoWZJEwEiQkZ4I9",
     "type": "CODE",
     "hide_input_from_viewers": true,
     "hide_output_from_viewers": true
    }
   }
  },
  {
   "cell_type": "code",
   "source": [
    "titanic_data = pd.read_csv(\"./train.csv\")\n",
    "titanic_data['Sex'] = np.where(titanic_data['Sex'] == 'female', 0, 1)\n",
    "\n",
    "X = titanic_data.get(['Pclass', 'Sex', 'Age'])\n",
    "Y = titanic_data.Survived\n",
    "\n",
    "X = X.fillna({ 'Age': X.Age.median() })\n",
    "\n",
    "X_train, X_test, Y_train, Y_test = train_test_split(X, Y, test_size=0.33, random_state=42)\n",
    "\n",
    "grid_search_clf = GridSearchCV(DecisionTreeClassifier(), {'max_depth': [5, 7, 10, 13, 15]})\n",
    "grid_search_clf.fit(X_train, Y_train)\n",
    "\n",
    "predicted = grid_search_clf.best_estimator_.predict(X_test)\n",
    "\n",
    "print(f'Precision: {precision_score(Y_test, predicted)}')\n",
    "print(f'Recall равен {recall_score(Y_test, predicted)}')\n",
    "print(f'F1-мера {f1_score(Y_test, predicted)}')\n",
    "print(f'Accuracy {accuracy_score(Y_test, predicted)}')"
   ],
   "execution_count": 141,
   "outputs": [
    {
     "name": "stdout",
     "text": [
      "Precision: 0.8840579710144928\n",
      "Recall равен 0.5083333333333333\n",
      "F1-мера 0.6455026455026456\n",
      "Accuracy 0.7728813559322034\n"
     ],
     "output_type": "stream"
    }
   ],
   "metadata": {
    "datalore": {
     "node_id": "k9YAkNVv9IV32HRvdepT2f",
     "type": "CODE",
     "hide_input_from_viewers": true,
     "hide_output_from_viewers": true
    }
   }
  },
  {
   "cell_type": "markdown",
   "source": [
    "### Предсказание при помощи леса с медианным возрастом"
   ],
   "attachments": {},
   "metadata": {
    "datalore": {
     "node_id": "n2iSQcx6tapbgBopItsEIa",
     "type": "MD",
     "hide_input_from_viewers": true,
     "hide_output_from_viewers": true
    }
   }
  },
  {
   "cell_type": "code",
   "source": [
    "from sklearn.model_selection import GridSearchCV, train_test_split\n",
    "from sklearn.ensemble import RandomForestClassifier\n",
    "from sklearn.metrics import precision_score, recall_score, f1_score, accuracy_score\n",
    "import pandas as pd\n",
    "import numpy as np"
   ],
   "execution_count": 143,
   "outputs": [],
   "metadata": {
    "datalore": {
     "node_id": "yoxlmRQb4QVj5sezelWRcz",
     "type": "CODE",
     "hide_input_from_viewers": true,
     "hide_output_from_viewers": true
    }
   }
  },
  {
   "cell_type": "code",
   "source": [
    "titanic_data = pd.read_csv(\"./train.csv\")\n",
    "titanic_data['Sex'] = np.where(titanic_data['Sex'] == 'female', 0, 1)\n",
    "\n",
    "X = titanic_data.get(['Pclass', 'Sex', 'Age'])\n",
    "Y = titanic_data.Survived\n",
    "\n",
    "X = X.fillna({ 'Age': X.Age.median() })\n",
    "\n",
    "X_train, X_test, Y_train, Y_test = train_test_split(X, Y, test_size=0.33, random_state=42)\n",
    "\n",
    "grid_search_clf = GridSearchCV(RandomForestClassifier(), {'n_estimators': [10,20,30], 'max_depth': [5, 7, 10, 13, 15]})\n",
    "grid_search_clf.fit(X_train, Y_train)\n",
    "\n",
    "predicted = grid_search_clf.best_estimator_.predict(X_test)\n",
    "\n",
    "print(f'Precision: {precision_score(Y_test, predicted)}')\n",
    "print(f'Recall равен {recall_score(Y_test, predicted)}')\n",
    "print(f'F1-мера {f1_score(Y_test, predicted)}')\n",
    "print(f'Accuracy {accuracy_score(Y_test, predicted)}')"
   ],
   "execution_count": 144,
   "outputs": [
    {
     "name": "stdout",
     "text": [
      "Precision: 0.8\n",
      "Recall равен 0.6666666666666666\n",
      "F1-мера 0.7272727272727272\n",
      "Accuracy 0.7966101694915254\n"
     ],
     "output_type": "stream"
    }
   ],
   "metadata": {
    "datalore": {
     "node_id": "GcVVEeKObAtz5nJTwOt6j4",
     "type": "CODE",
     "hide_input_from_viewers": true,
     "hide_output_from_viewers": true
    }
   }
  },
  {
   "cell_type": "markdown",
   "source": [
    "### Предсказание при помощи леса с заполненным возрастом"
   ],
   "attachments": {},
   "metadata": {
    "datalore": {
     "node_id": "zTOb7FzTelm38YwAEY1rRU",
     "type": "MD",
     "hide_input_from_viewers": true,
     "hide_output_from_viewers": true
    }
   }
  },
  {
   "cell_type": "code",
   "source": [
    "from sklearn.model_selection import GridSearchCV, train_test_split\n",
    "from sklearn.ensemble import RandomForestClassifier\n",
    "from sklearn.metrics import precision_score, recall_score, f1_score, accuracy_score\n",
    "import pandas as pd\n",
    "import numpy as np"
   ],
   "execution_count": null,
   "outputs": [],
   "metadata": {
    "datalore": {
     "node_id": "wJLNpKZAe3nMgjpkNSWcX5",
     "type": "CODE",
     "hide_input_from_viewers": true,
     "hide_output_from_viewers": true
    }
   }
  },
  {
   "cell_type": "code",
   "source": [
    "X = titanic_data_with_age.get(['Pclass', 'Sex', 'Age'])\n",
    "Y = titanic_data_with_age.Survived\n",
    "\n",
    "X_train, X_test, Y_train, Y_test = train_test_split(X, Y, test_size=0.33, random_state=42)\n",
    "\n",
    "grid_search_clf = GridSearchCV(RandomForestClassifier(), {'n_estimators': [10,20,30], 'max_depth': [5, 7, 10, 13, 15]})\n",
    "grid_search_clf.fit(X_train, Y_train)\n",
    "\n",
    "predicted = grid_search_clf.best_estimator_.predict(X_test)\n",
    "\n",
    "print(f'Precision: {precision_score(Y_test, predicted)}')\n",
    "print(f'Recall равен {recall_score(Y_test, predicted)}')\n",
    "print(f'F1-мера {f1_score(Y_test, predicted)}')\n",
    "print(f'Accuracy {accuracy_score(Y_test, predicted)}')"
   ],
   "execution_count": 145,
   "outputs": [
    {
     "name": "stdout",
     "text": [
      "Precision: 0.7478260869565218\n",
      "Recall равен 0.7413793103448276\n",
      "F1-мера 0.7445887445887446\n",
      "Accuracy 0.8\n"
     ],
     "output_type": "stream"
    }
   ],
   "metadata": {
    "datalore": {
     "node_id": "dSAPS4c5MSXvjk0HW21xG0",
     "type": "CODE",
     "hide_input_from_viewers": true,
     "hide_output_from_viewers": true
    }
   }
  }
 ],
 "metadata": {
  "kernelspec": {
   "display_name": "Python",
   "language": "python",
   "name": "python"
  },
  "datalore": {
   "version": 1,
   "computation_mode": "JUPYTER",
   "package_manager": "pip",
   "base_environment": "default",
   "packages": []
  }
 },
 "nbformat": 4,
 "nbformat_minor": 4
}
