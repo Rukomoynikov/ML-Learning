{
 "cells":[
  {
   "cell_type":"markdown",
   "source":[
    "## Полный эксперимент с заполнением возраста из обученной модели DecissionTreeRegressions\n",
    "\n",
    "Цель сравнить точность предсказания с возрастом заполненным median'ым значением и предсказанным значением"
   ],
   "attachments":{
    
   },
   "metadata":{
    "datalore":{
     "node_id":"ZWiqgDZekkLwDpDRSVyMIF",
     "type":"MD",
     "hide_input_from_viewers":true,
     "hide_output_from_viewers":true
    }
   }
  },
  {
   "cell_type":"markdown",
   "source":[
    "### Заполнение возраста где он отсутствует"
   ],
   "attachments":{
    
   },
   "metadata":{
    "datalore":{
     "node_id":"fwgk1rzElvf2Ec23bM2fqc",
     "type":"MD",
     "hide_input_from_viewers":true,
     "hide_output_from_viewers":true
    }
   }
  },
  {
   "cell_type":"code",
   "source":[
    "from sklearn.tree import DecisionTreeRegressor, DecisionTreeClassifier\n",
    "from sklearn.model_selection import GridSearchCV, train_test_split\n",
    "from sklearn.metrics import precision_score, recall_score, f1_score, accuracy_score\n",
    "from sklearn.ensemble import RandomForestClassifier\n",
    "\n",
    "import pandas as pd\n",
    "import numpy as np"
   ],
   "execution_count":22,
   "outputs":[
    
   ],
   "metadata":{
    "datalore":{
     "node_id":"mG0m469bPNCQgawQtJ20m7",
     "type":"CODE",
     "hide_input_from_viewers":true,
     "hide_output_from_viewers":true
    }
   }
  },
  {
   "cell_type":"code",
   "source":[
    "titanic_data = pd.read_csv(\".\/train.csv\")\n",
    "# titanic_data = titanic_data.set_index('PassengerId')\n",
    "\n",
    "# Change type of values for Sex column\n",
    "titanic_data['Sex'] = np.where(titanic_data['Sex'] == 'female', 0, 1)\n",
    "\n",
    "# Remove rows with NaN in age\n",
    "rows_witn_unknown_age = titanic_data[np.isnan(titanic_data.Age)]\n",
    "rows_witn_known_age = titanic_data[np.isnan(titanic_data.Age) == False]"
   ],
   "execution_count":23,
   "outputs":[
    
   ],
   "metadata":{
    "datalore":{
     "node_id":"0Pc8KS3Ovo9LSibIvUVzfE",
     "type":"CODE",
     "hide_input_from_viewers":true,
     "hide_output_from_viewers":true
    }
   }
  },
  {
   "cell_type":"markdown",
   "source":[
    "### Обучение дерева_регресии для предсказания возраста"
   ],
   "attachments":{
    
   },
   "metadata":{
    "datalore":{
     "node_id":"dgy9pS23HsTpyW7Ttvv4jd",
     "type":"MD",
     "hide_input_from_viewers":true,
     "hide_output_from_viewers":true
    }
   }
  },
  {
   "cell_type":"code",
   "source":[
    "# Split of data\n",
    "X = rows_witn_known_age.get(['Survived', 'Sex', 'Pclass'])\n",
    "Y = rows_witn_known_age.Age\n",
    "\n",
    "X_train, X_test, Y_train, Y_test = train_test_split(X, Y, test_size=0.33, random_state=42)\n",
    "\n",
    "# Learn ML model (DecisionTreeRegressor)\n",
    "regressor_clf = DecisionTreeRegressor()\n",
    "regressor_clf.fit(X_train, Y_train)\n",
    "\n",
    "# Predcit age for missing rows\n",
    "predicted_ages = regressor_clf.predict(rows_witn_unknown_age.get(['Survived', 'Sex', 'Pclass']))\n",
    "rows_witn_unknown_age.loc[:,'Age'] = predicted_ages\n",
    "\n",
    "# Create a titanic DataFrame with all data\n",
    "titanic_data_with_age = rows_witn_known_age.merge(rows_witn_unknown_age, how='outer')"
   ],
   "execution_count":24,
   "outputs":[
    {
     "name":"stderr",
     "text":[
      "\/opt\/python\/envs\/default\/lib\/python3.8\/site-packages\/pandas\/core\/indexing.py:1773: SettingWithCopyWarning: \n",
      "A value is trying to be set on a copy of a slice from a DataFrame.\n",
      "Try using .loc[row_indexer,col_indexer] = value instead\n",
      "\n",
      "See the caveats in the documentation: https:\/\/pandas.pydata.org\/pandas-docs\/stable\/user_guide\/indexing.html#returning-a-view-versus-a-copy\n",
      "  self._setitem_single_column(ilocs[0], value, pi)\n"
     ],
     "output_type":"stream"
    }
   ],
   "metadata":{
    "datalore":{
     "node_id":"LQIeM0m4DraXEk3b1i2rQs",
     "type":"CODE",
     "hide_input_from_viewers":true,
     "hide_output_from_viewers":true
    }
   }
  },
  {
   "cell_type":"markdown",
   "source":[
    "### Usage of DecisionTreeClassifier with predicted value in age column"
   ],
   "attachments":{
    
   },
   "metadata":{
    "datalore":{
     "node_id":"eL72P2LAxv5naRePaOK4Iv",
     "type":"MD",
     "hide_input_from_viewers":true,
     "hide_output_from_viewers":true
    }
   }
  },
  {
   "cell_type":"code",
   "source":[
    "X = titanic_data_with_age.get(['Pclass', 'Sex', 'Age'])\n",
    "Y = titanic_data_with_age.Survived\n",
    "\n",
    "X_train, X_test, Y_train, Y_test = train_test_split(X, Y, test_size=0.33, random_state=42)\n",
    "\n",
    "grid_search_clf = GridSearchCV(DecisionTreeClassifier(), {'max_depth': [5, 7, 10, 13, 15]})\n",
    "grid_search_clf.fit(X_train, Y_train)\n",
    "\n",
    "predicted = grid_search_clf.best_estimator_.predict(X_test)\n",
    "\n",
    "print(f'Precision: {precision_score(Y_test, predicted)}')\n",
    "print(f'Recall равен {recall_score(Y_test, predicted)}')\n",
    "print(f'F1-мера {f1_score(Y_test, predicted)}')\n",
    "print(f'Accuracy {accuracy_score(Y_test, predicted)}')"
   ],
   "execution_count":32,
   "outputs":[
    {
     "name":"stdout",
     "text":[
      "Precision: 0.8247422680412371\n",
      "Recall равен 0.6896551724137931\n",
      "F1-мера 0.7511737089201878\n",
      "Accuracy 0.8203389830508474\n"
     ],
     "output_type":"stream"
    }
   ],
   "metadata":{
    "datalore":{
     "node_id":"zqeRbciOrCGdDGReOD8RHt",
     "type":"CODE",
     "hide_input_from_viewers":true,
     "hide_output_from_viewers":true
    }
   }
  },
  {
   "cell_type":"markdown",
   "source":[
    "### Usage of DecisionTreeClassifier with median value in age column"
   ],
   "attachments":{
    
   },
   "metadata":{
    "datalore":{
     "node_id":"T10OoRnWzX1ujGT7Qfo2cO",
     "type":"MD",
     "hide_input_from_viewers":true,
     "hide_output_from_viewers":true
    }
   }
  },
  {
   "cell_type":"code",
   "source":[
    "titanic_data = pd.read_csv(\".\/train.csv\")\n",
    "titanic_data['Sex'] = np.where(titanic_data['Sex'] == 'female', 0, 1)\n",
    "\n",
    "X = titanic_data.get(['Pclass', 'Sex', 'Age'])\n",
    "Y = titanic_data.Survived\n",
    "\n",
    "X = X.fillna({ 'Age': X.Age.median() })\n",
    "\n",
    "X_train, X_test, Y_train, Y_test = train_test_split(X, Y, test_size=0.33, random_state=42)\n",
    "\n",
    "grid_search_clf = GridSearchCV(DecisionTreeClassifier(), {'max_depth': [5, 7, 10, 13, 15]})\n",
    "grid_search_clf.fit(X_train, Y_train)\n",
    "\n",
    "predicted = grid_search_clf.best_estimator_.predict(X_test)\n",
    "\n",
    "print(f'Precision: {precision_score(Y_test, predicted)}')\n",
    "print(f'Recall равен {recall_score(Y_test, predicted)}')\n",
    "print(f'F1-мера {f1_score(Y_test, predicted)}')\n",
    "print(f'Accuracy {accuracy_score(Y_test, predicted)}')"
   ],
   "execution_count":27,
   "outputs":[
    {
     "name":"stdout",
     "text":[
      "Precision: 0.8840579710144928\n",
      "Recall равен 0.5083333333333333\n",
      "F1-мера 0.6455026455026456\n",
      "Accuracy 0.7728813559322034\n"
     ],
     "output_type":"stream"
    }
   ],
   "metadata":{
    "datalore":{
     "node_id":"k9YAkNVv9IV32HRvdepT2f",
     "type":"CODE",
     "hide_input_from_viewers":true,
     "hide_output_from_viewers":true
    }
   }
  },
  {
   "cell_type":"markdown",
   "source":[
    "### Usage of RandomForest with median value in age column"
   ],
   "attachments":{
    
   },
   "metadata":{
    "datalore":{
     "node_id":"n2iSQcx6tapbgBopItsEIa",
     "type":"MD",
     "hide_input_from_viewers":true,
     "hide_output_from_viewers":true
    }
   }
  },
  {
   "cell_type":"code",
   "source":[
    "titanic_data = pd.read_csv(\".\/train.csv\")\n",
    "titanic_data['Sex'] = np.where(titanic_data['Sex'] == 'female', 0, 1)\n",
    "\n",
    "X = titanic_data.get(['Pclass', 'Sex', 'Age'])\n",
    "Y = titanic_data.Survived\n",
    "\n",
    "X = X.fillna({ 'Age': X.Age.median() })\n",
    "\n",
    "X_train, X_test, Y_train, Y_test = train_test_split(X, Y, test_size=0.33, random_state=42)\n",
    "\n",
    "grid_search_clf = GridSearchCV(RandomForestClassifier(), {'n_estimators': [10,20,30], 'max_depth': [5, 7, 10, 13, 15]})\n",
    "grid_search_clf.fit(X_train, Y_train)\n",
    "\n",
    "predicted = grid_search_clf.best_estimator_.predict(X_test)\n",
    "\n",
    "print(f'Precision: {precision_score(Y_test, predicted)}')\n",
    "print(f'Recall равен {recall_score(Y_test, predicted)}')\n",
    "print(f'F1-мера {f1_score(Y_test, predicted)}')\n",
    "print(f'Accuracy {accuracy_score(Y_test, predicted)}')"
   ],
   "execution_count":29,
   "outputs":[
    {
     "name":"stdout",
     "text":[
      "Precision: 0.7387387387387387\n",
      "Recall равен 0.6833333333333333\n",
      "F1-мера 0.70995670995671\n",
      "Accuracy 0.7728813559322034\n"
     ],
     "output_type":"stream"
    }
   ],
   "metadata":{
    "datalore":{
     "node_id":"GcVVEeKObAtz5nJTwOt6j4",
     "type":"CODE",
     "hide_input_from_viewers":true,
     "hide_output_from_viewers":true
    }
   }
  },
  {
   "cell_type":"markdown",
   "source":[
    "### Usage of RandomForestClassifier with predicted value in age column"
   ],
   "attachments":{
    
   },
   "metadata":{
    "datalore":{
     "node_id":"zTOb7FzTelm38YwAEY1rRU",
     "type":"MD",
     "hide_input_from_viewers":true,
     "hide_output_from_viewers":true
    }
   }
  },
  {
   "cell_type":"code",
   "source":[
    "X = titanic_data_with_age.get(['Pclass', 'Sex', 'Age'])\n",
    "Y = titanic_data_with_age.Survived\n",
    "\n",
    "X_train, X_test, Y_train, Y_test = train_test_split(X, Y, test_size=0.33, random_state=42)\n",
    "\n",
    "grid_search_clf = GridSearchCV(RandomForestClassifier(), {'n_estimators': [10,20,30], 'max_depth': [5, 7, 10, 13, 15]})\n",
    "grid_search_clf.fit(X_train, Y_train)\n",
    "\n",
    "predicted = grid_search_clf.best_estimator_.predict(X_test)\n",
    "\n",
    "print(f'Precision: {precision_score(Y_test, predicted)}')\n",
    "print(f'Recall равен {recall_score(Y_test, predicted)}')\n",
    "print(f'F1-мера {f1_score(Y_test, predicted)}')\n",
    "print(f'Accuracy {accuracy_score(Y_test, predicted)}')"
   ],
   "execution_count":31,
   "outputs":[
    {
     "name":"stdout",
     "text":[
      "Precision: 0.7391304347826086\n",
      "Recall равен 0.7327586206896551\n",
      "F1-мера 0.735930735930736\n",
      "Accuracy 0.7932203389830509\n"
     ],
     "output_type":"stream"
    }
   ],
   "metadata":{
    "datalore":{
     "node_id":"dSAPS4c5MSXvjk0HW21xG0",
     "type":"CODE",
     "hide_input_from_viewers":true,
     "hide_output_from_viewers":true
    }
   }
  }
 ],
 "metadata":{
  "kernelspec":{
   "display_name":"Python",
   "language":"python",
   "name":"python"
  },
  "datalore":{
   "version":1,
   "computation_mode":"JUPYTER",
   "package_manager":"pip",
   "base_environment":"default",
   "packages":[
    
   ]
  }
 },
 "nbformat":4,
 "nbformat_minor":4
}